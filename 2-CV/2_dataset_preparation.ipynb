{
 "cells": [
  {
   "cell_type": "code",
   "execution_count": 13,
   "id": "a9cd90cb",
   "metadata": {},
   "outputs": [],
   "source": [
    "import os\n",
    "import shutil\n",
    "import random"
   ]
  },
  {
   "attachments": {
    "image.png": {
     "image/png": "[encoded data removed]"
    }
   },
   "cell_type": "markdown",
   "id": "704ccf62",
   "metadata": {},
   "source": [
    "![image.png](attachment:image.png)"
   ]
  },
  {
   "cell_type": "code",
   "execution_count": 2,
   "id": "0d32d877",
   "metadata": {},
   "outputs": [],
   "source": [
    "src_dir = r\"F:\\train\"\n",
    "\n",
    "cats_dir = os.path.join(src_dir, \"cats\")\n",
    "dogs_dir = os.path.join(src_dir, \"dogs\")"
   ]
  },
  {
   "cell_type": "code",
   "execution_count": 3,
   "id": "70a0ac21",
   "metadata": {},
   "outputs": [],
   "source": [
    "os.makedirs(cats_dir, exist_ok=True)\n",
    "os.makedirs(dogs_dir, exist_ok=True)"
   ]
  },
  {
   "cell_type": "code",
   "execution_count": 4,
   "id": "7e4c8f42",
   "metadata": {},
   "outputs": [
    {
     "name": "stdout",
     "output_type": "stream",
     "text": [
      "✅ Done: Images sorted into 'cats/' and 'dogs/' folders.\n"
     ]
    }
   ],
   "source": [
    "for filename in os.listdir(src_dir):\n",
    "    if filename.lower().startswith(\"cat\") and filename.endswith(\".jpg\"):\n",
    "        shutil.move(os.path.join(src_dir, filename), os.path.join(cats_dir, filename))\n",
    "    elif filename.lower().startswith(\"dog\") and filename.endswith(\".jpg\"):\n",
    "        shutil.move(os.path.join(src_dir, filename), os.path.join(dogs_dir, filename))\n",
    "\n",
    "print(\"✅ Done: Images sorted into 'cats/' and 'dogs/' folders.\")"
   ]
  },
  {
   "attachments": {
    "image.png": {
     "image/png": "[encoded data removed]"
    }
   },
   "cell_type": "markdown",
   "id": "5450a3b6",
   "metadata": {},
   "source": [
    "![image.png](attachment:image.png)"
   ]
  },
  {
   "cell_type": "code",
   "execution_count": 8,
   "id": "2be4b7fd",
   "metadata": {},
   "outputs": [],
   "source": [
    "src_dir1 = r\"F:\\Test\"\n",
    "\n",
    "cats_dir = os.path.join(src_dir1, \"cats\")\n",
    "dogs_dir = os.path.join(src_dir1, \"dogs\")"
   ]
  },
  {
   "cell_type": "code",
   "execution_count": 9,
   "id": "e542c1a3",
   "metadata": {},
   "outputs": [],
   "source": [
    "os.makedirs(cats_dir, exist_ok=True)\n",
    "os.makedirs(dogs_dir, exist_ok=True)"
   ]
  },
  {
   "cell_type": "code",
   "execution_count": 10,
   "id": "221a9345",
   "metadata": {},
   "outputs": [
    {
     "name": "stdout",
     "output_type": "stream",
     "text": [
      "✅ Done: Images sorted into 'cats/' and 'dogs/' folders.\n"
     ]
    }
   ],
   "source": [
    "for filename in os.listdir(src_dir1):\n",
    "    if filename.lower().startswith(\"cat\") and filename.endswith(\".jpg\"):\n",
    "        shutil.move(os.path.join(src_dir1, filename), os.path.join(cats_dir, filename))\n",
    "    elif filename.lower().startswith(\"dog\") and filename.endswith(\".jpg\"):\n",
    "        shutil.move(os.path.join(src_dir1, filename), os.path.join(dogs_dir, filename))\n",
    "\n",
    "print(\"✅ Done: Images sorted into 'cats/' and 'dogs/' folders.\")"
   ]
  },
  {
   "attachments": {
    "image.png": {
     "image/png": "[encoded data removed]"
    }
   },
   "cell_type": "markdown",
   "id": "0d99cf21",
   "metadata": {},
   "source": [
    "![image.png](attachment:image.png)"
   ]
  },
  {
   "cell_type": "code",
   "execution_count": null,
   "id": "37ada23f",
   "metadata": {},
   "outputs": [
    {
     "name": "stdout",
     "output_type": "stream",
     "text": [
      "✅ Moved 2500 images from F:\\Train\\cats to F:\\Validation\\cats\n",
      "✅ Moved 1600 images from F:\\Train\\dogs to F:\\Validation\\dogs\n"
     ]
    }
   ],
   "source": [
    "\n",
    "train_base = r\"F:\\Train\"\n",
    "\n",
    "val_base = r\"F:\\Validation\"\n",
    "\n",
    "classes = [\"cats\", \"dogs\"]\n",
    "\n",
    "split_ratio = 0.2\n",
    "\n",
    "for cls in classes:\n",
    "    train_folder = os.path.join(train_base, cls)\n",
    "    val_folder = os.path.join(val_base, cls)\n",
    "\n",
    "    os.makedirs(val_folder, exist_ok=True)\n",
    "\n",
    "    images = [f for f in os.listdir(train_folder) if f.endswith(\".jpg\")]\n",
    "    random.shuffle(images)\n",
    "\n",
    "    val_count = int(len(images) * split_ratio)\n",
    "    val_images = images[:val_count]\n",
    "\n",
    "    for img in val_images:\n",
    "        src_path = os.path.join(train_folder, img)\n",
    "        dst_path = os.path.join(val_folder, img)\n",
    "        shutil.move(src_path, dst_path)\n",
    "\n",
    "    print(f\"✅ Moved {val_count} images from {train_folder} to {val_folder}\")\n"
   ]
  }
 ],
 "metadata": {
  "kernelspec": {
   "display_name": "venv",
   "language": "python",
   "name": "python3"
  },
  "language_info": {
   "codemirror_mode": {
    "name": "ipython",
    "version": 3
   },
   "file_extension": ".py",
   "mimetype": "text/x-python",
   "name": "python",
   "nbconvert_exporter": "python",
   "pygments_lexer": "ipython3",
   "version": "3.10.11"
  }
 },
 "nbformat": 4,
 "nbformat_minor": 5
}
