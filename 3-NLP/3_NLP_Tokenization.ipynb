{
 "cells": [
  {
   "cell_type": "markdown",
   "id": "504d3b5f",
   "metadata": {},
   "source": [
    "#### **➡️Tokenization**"
   ]
  },
  {
   "cell_type": "code",
   "execution_count": 9,
   "id": "a2e16b46",
   "metadata": {},
   "outputs": [],
   "source": [
    "import tensorflow as tf\n",
    "from tensorflow.keras import layers, models , preprocessing"
   ]
  },
  {
   "cell_type": "markdown",
   "id": "50a16385",
   "metadata": {},
   "source": [
    "#### **➡️Custom Text Data**"
   ]
  },
  {
   "cell_type": "code",
   "execution_count": 2,
   "id": "935be79e",
   "metadata": {},
   "outputs": [],
   "source": [
    "sentences = [\"I love my dog\",\n",
    "            \"I love my cat\",\n",
    "\t\t\t\"I hate my dog\",\n",
    "            \"I love programming\",\n",
    "\t\t\t\"I hate programming\",\n",
    "\t\t\t\"I love my cat and dog\",\n",
    "            ]"
   ]
  },
  {
   "cell_type": "markdown",
   "id": "eb3ba9cb",
   "metadata": {},
   "source": [
    "#### **➡️Create Vocab**"
   ]
  },
  {
   "cell_type": "code",
   "execution_count": 3,
   "id": "297981f6",
   "metadata": {},
   "outputs": [
    {
     "name": "stdout",
     "output_type": "stream",
     "text": [
      "0: \n",
      "1: [UNK]\n",
      "2: i\n",
      "3: my\n",
      "4: love\n",
      "5: dog\n",
      "6: programming\n",
      "7: hate\n",
      "8: cat\n",
      "9: and\n"
     ]
    }
   ],
   "source": [
    "vect_layer = layers.TextVectorization()\n",
    "vect_layer.adapt(sentences)\n",
    "vocab = vect_layer.get_vocabulary()\n",
    "\n",
    "for i,word in enumerate(vocab):\n",
    "\tprint(f\"{i}: {word}\")"
   ]
  },
  {
   "cell_type": "code",
   "execution_count": 4,
   "id": "d620153a",
   "metadata": {},
   "outputs": [
    {
     "name": "stdout",
     "output_type": "stream",
     "text": [
      "Vocabulary size: 10\n"
     ]
    }
   ],
   "source": [
    "print(\"Vocabulary size:\", len(vocab))"
   ]
  },
  {
   "cell_type": "markdown",
   "id": "c49b159c",
   "metadata": {},
   "source": [
    "#### **➡️Text to Sequence**"
   ]
  },
  {
   "cell_type": "code",
   "execution_count": 7,
   "id": "1e25c681",
   "metadata": {},
   "outputs": [
    {
     "name": "stdout",
     "output_type": "stream",
     "text": [
      "b'I love my dog'----> [2 4 3 5]\n",
      "b'I love my cat'----> [2 4 3 8]\n",
      "b'I hate my dog'----> [2 7 3 5]\n",
      "b'I love programming'----> [2 4 6]\n",
      "b'I hate programming'----> [2 7 6]\n",
      "b'I love my cat and dog'----> [2 4 3 8 9 5]\n"
     ]
    }
   ],
   "source": [
    "sentence_dataset = tf.data.Dataset.from_tensor_slices(sentences)\n",
    "sequence = sentence_dataset.map(vect_layer)\n",
    "\n",
    "for sentence ,seq in zip(sentence_dataset, sequence):\n",
    "\tprint(f'{sentence}----> {seq.numpy()}')"
   ]
  },
  {
   "cell_type": "markdown",
   "id": "f06699f6",
   "metadata": {},
   "source": [
    "#### **➡️Padding**"
   ]
  },
  {
   "cell_type": "code",
   "execution_count": 11,
   "id": "d5b8466a",
   "metadata": {},
   "outputs": [
    {
     "data": {
      "text/plain": [
       "array([[2, 4, 3, 5, 0, 0],\n",
       "       [2, 4, 3, 8, 0, 0],\n",
       "       [2, 7, 3, 5, 0, 0],\n",
       "       [2, 4, 6, 0, 0, 0],\n",
       "       [2, 7, 6, 0, 0, 0],\n",
       "       [2, 4, 3, 8, 9, 5]], dtype=int32)"
      ]
     },
     "execution_count": 11,
     "metadata": {},
     "output_type": "execute_result"
    }
   ],
   "source": [
    "sequences_post = preprocessing.sequence.pad_sequences(sequence, padding='post')\n",
    "sequences_post"
   ]
  },
  {
   "cell_type": "code",
   "execution_count": 12,
   "id": "19a13f11",
   "metadata": {},
   "outputs": [
    {
     "data": {
      "text/plain": [
       "array([[0, 0, 2, 4, 3, 5],\n",
       "       [0, 0, 2, 4, 3, 8],\n",
       "       [0, 0, 2, 7, 3, 5],\n",
       "       [0, 0, 0, 2, 4, 6],\n",
       "       [0, 0, 0, 2, 7, 6],\n",
       "       [2, 4, 3, 8, 9, 5]], dtype=int32)"
      ]
     },
     "execution_count": 12,
     "metadata": {},
     "output_type": "execute_result"
    }
   ],
   "source": [
    "sequences_pre = preprocessing.sequence.pad_sequences(sequence, padding='pre')\n",
    "sequences_pre"
   ]
  },
  {
   "cell_type": "markdown",
   "id": "0ac6502e",
   "metadata": {},
   "source": [
    "#### **➡️Test on Data**"
   ]
  },
  {
   "cell_type": "code",
   "execution_count": 15,
   "id": "ad09fdf9",
   "metadata": {},
   "outputs": [
    {
     "data": {
      "text/plain": [
       "<tf.Tensor: shape=(4, 7), dtype=int64, numpy=\n",
       "array([[2, 4, 3, 5, 9, 8, 0],\n",
       "       [2, 4, 1, 6, 9, 1, 0],\n",
       "       [2, 4, 1, 9, 1, 1, 0],\n",
       "       [2, 1, 1, 1, 1, 1, 1]])>"
      ]
     },
     "execution_count": 15,
     "metadata": {},
     "output_type": "execute_result"
    }
   ],
   "source": [
    "test_data = [\"I love my dog and cat\",\n",
    "             \"I love python programming and tensorflow\",\n",
    "             \"I love NLP and computer vision\",\n",
    "             \"I want to be a data scientist\",\n",
    "             ]\n",
    "\n",
    "test_seq = vect_layer(test_data)\n",
    "test_seq"
   ]
  }
 ],
 "metadata": {
  "kernelspec": {
   "display_name": "venv",
   "language": "python",
   "name": "python3"
  },
  "language_info": {
   "codemirror_mode": {
    "name": "ipython",
    "version": 3
   },
   "file_extension": ".py",
   "mimetype": "text/x-python",
   "name": "python",
   "nbconvert_exporter": "python",
   "pygments_lexer": "ipython3",
   "version": "3.10.11"
  }
 },
 "nbformat": 4,
 "nbformat_minor": 5
}
